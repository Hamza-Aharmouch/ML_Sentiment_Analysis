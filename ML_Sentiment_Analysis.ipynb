{
 "cells": [
  {
   "cell_type": "code",
   "execution_count": 2,
   "id": "4f7cf9e0",
   "metadata": {},
   "outputs": [],
   "source": [
    "import pandas as pd\n",
    "import re\n",
    "import numpy as np\n",
    "import os\n",
    "import pandas as pd\n",
    "import numpy as np\n",
    "from nltk.tokenize import word_tokenize\n",
    "from nltk import pos_tag\n",
    "from nltk.corpus import stopwords\n",
    "from nltk.stem import WordNetLemmatizer\n",
    "from sklearn.preprocessing import LabelEncoder\n",
    "from collections import defaultdict\n",
    "from nltk.corpus import wordnet as wn\n",
    "from sklearn.feature_extraction.text import TfidfVectorizer\n",
    "from sklearn import model_selection, naive_bayes, svm\n",
    "from sklearn.metrics import accuracy_score\n",
    "\n",
    "# Packages for data preparation\n",
    "from sklearn.model_selection import train_test_split\n",
    "from nltk.corpus import stopwords\n",
    "from keras.preprocessing.text import Tokenizer\n",
    "from keras.utils.np_utils import to_categorical\n",
    "from sklearn.preprocessing import LabelEncoder\n",
    "\n",
    "# Packages for modeling\n",
    "from keras import models\n",
    "from keras import layers\n",
    "from keras import regularizers"
   ]
  },
  {
   "cell_type": "code",
   "execution_count": 3,
   "id": "b5a2e521",
   "metadata": {},
   "outputs": [],
   "source": [
    "from nltk.tokenize import sent_tokenize\n",
    "import spacy\n",
    "from spacy.lang.fr.stop_words import STOP_WORDS\n",
    "import string\n",
    "from textblob import Blobber\n",
    "from textblob_fr import PatternTagger, PatternAnalyzer\n",
    "tb = Blobber(pos_tagger=PatternTagger(), analyzer=PatternAnalyzer())\n",
    "import plotly.graph_objects as go\n",
    "import plotly.express as px"
   ]
  },
  {
   "cell_type": "code",
   "execution_count": 4,
   "id": "f29336ce",
   "metadata": {},
   "outputs": [
    {
     "name": "stdout",
     "output_type": "stream",
     "text": [
      "<class 'pandas.core.frame.DataFrame'>\n",
      "RangeIndex: 2868 entries, 0 to 2867\n",
      "Data columns (total 2 columns):\n",
      " #   Column   Non-Null Count  Dtype \n",
      "---  ------   --------------  ----- \n",
      " 0   title    2868 non-null   object\n",
      " 1   details  2868 non-null   object\n",
      "dtypes: object(2)\n",
      "memory usage: 44.9+ KB\n"
     ]
    }
   ],
   "source": [
    "df=pd.read_json(\"data_3000.json\")\n",
    "#df.head(20)\n",
    "tittle_1=df['title'][0]\n",
    "tittle_=tittle_1\n",
    "df.info()"
   ]
  },
  {
   "cell_type": "code",
   "execution_count": 5,
   "id": "360339cd",
   "metadata": {
    "scrolled": true
   },
   "outputs": [
    {
     "data": {
      "text/html": [
       "<div>\n",
       "<style scoped>\n",
       "    .dataframe tbody tr th:only-of-type {\n",
       "        vertical-align: middle;\n",
       "    }\n",
       "\n",
       "    .dataframe tbody tr th {\n",
       "        vertical-align: top;\n",
       "    }\n",
       "\n",
       "    .dataframe thead th {\n",
       "        text-align: right;\n",
       "    }\n",
       "</style>\n",
       "<table border=\"1\" class=\"dataframe\">\n",
       "  <thead>\n",
       "    <tr style=\"text-align: right;\">\n",
       "      <th></th>\n",
       "      <th>title</th>\n",
       "      <th>details</th>\n",
       "    </tr>\n",
       "  </thead>\n",
       "  <tbody>\n",
       "    <tr>\n",
       "      <th>0</th>\n",
       "      <td>Covid   morts la baisse se poursuit dans les s...</td>\n",
       "      <td>Le nombre de malades du Covid dans les service...</td>\n",
       "    </tr>\n",
       "    <tr>\n",
       "      <th>1</th>\n",
       "      <td>Covid  un essai lancé en France sur linterchan...</td>\n",
       "      <td>Une dose de Moderna puis une dose de Pfizer Bi...</td>\n",
       "    </tr>\n",
       "    <tr>\n",
       "      <th>2</th>\n",
       "      <td>Covid  malgré son retard initial la France fai...</td>\n",
       "      <td>Après des débuts difficiles la campagne vaccin...</td>\n",
       "    </tr>\n",
       "    <tr>\n",
       "      <th>3</th>\n",
       "      <td>Covid  vaccinodrome cherche vaccinateurs le jo...</td>\n",
       "      <td>Après une campagne de recrutement organisée pa...</td>\n",
       "    </tr>\n",
       "    <tr>\n",
       "      <th>4</th>\n",
       "      <td>Covid  la baisse des hospitalisations se poursuit</td>\n",
       "      <td>Le nombre de malades du Covid à lhôpital servi...</td>\n",
       "    </tr>\n",
       "    <tr>\n",
       "      <th>...</th>\n",
       "      <td>...</td>\n",
       "      <td>...</td>\n",
       "    </tr>\n",
       "    <tr>\n",
       "      <th>2863</th>\n",
       "      <td>Vaccin  en France \"il est très difficile de sa...</td>\n",
       "      <td>Alors que la campagne française de vaccination...</td>\n",
       "    </tr>\n",
       "    <tr>\n",
       "      <th>2864</th>\n",
       "      <td>Succès inattendu pour les stations de ski malg...</td>\n",
       "      <td>Neige abondante soleil Lors des vacances de No...</td>\n",
       "    </tr>\n",
       "    <tr>\n",
       "      <th>2865</th>\n",
       "      <td>Covid  comment les Français concernés par le c...</td>\n",
       "      <td>Pas moins de six millions de Français de lest ...</td>\n",
       "    </tr>\n",
       "    <tr>\n",
       "      <th>2866</th>\n",
       "      <td>Covid  vaccination à grande échelle à Pékin av...</td>\n",
       "      <td>Plus de  Pékinois ont été vaccinés contre le c...</td>\n",
       "    </tr>\n",
       "    <tr>\n",
       "      <th>2867</th>\n",
       "      <td>Covid-19 : le vaccin de Moderna va être autori...</td>\n",
       "      <td>Invitée de Patrick Cohen sur Europe 1, lundi, ...</td>\n",
       "    </tr>\n",
       "  </tbody>\n",
       "</table>\n",
       "<p>2868 rows × 2 columns</p>\n",
       "</div>"
      ],
      "text/plain": [
       "                                                  title  \\\n",
       "0     Covid   morts la baisse se poursuit dans les s...   \n",
       "1     Covid  un essai lancé en France sur linterchan...   \n",
       "2     Covid  malgré son retard initial la France fai...   \n",
       "3     Covid  vaccinodrome cherche vaccinateurs le jo...   \n",
       "4     Covid  la baisse des hospitalisations se poursuit   \n",
       "...                                                 ...   \n",
       "2863  Vaccin  en France \"il est très difficile de sa...   \n",
       "2864  Succès inattendu pour les stations de ski malg...   \n",
       "2865  Covid  comment les Français concernés par le c...   \n",
       "2866  Covid  vaccination à grande échelle à Pékin av...   \n",
       "2867  Covid-19 : le vaccin de Moderna va être autori...   \n",
       "\n",
       "                                                details  \n",
       "0     Le nombre de malades du Covid dans les service...  \n",
       "1     Une dose de Moderna puis une dose de Pfizer Bi...  \n",
       "2     Après des débuts difficiles la campagne vaccin...  \n",
       "3     Après une campagne de recrutement organisée pa...  \n",
       "4     Le nombre de malades du Covid à lhôpital servi...  \n",
       "...                                                 ...  \n",
       "2863  Alors que la campagne française de vaccination...  \n",
       "2864  Neige abondante soleil Lors des vacances de No...  \n",
       "2865  Pas moins de six millions de Français de lest ...  \n",
       "2866  Plus de  Pékinois ont été vaccinés contre le c...  \n",
       "2867  Invitée de Patrick Cohen sur Europe 1, lundi, ...  \n",
       "\n",
       "[2868 rows x 2 columns]"
      ]
     },
     "execution_count": 5,
     "metadata": {},
     "output_type": "execute_result"
    }
   ],
   "source": [
    "#title_0=df['title'][0]\n",
    "df['title']=df['title'].astype('str') \n",
    "df['details']=df['details'].astype('str') #date\n",
    "#df['date']=df['date'].astype('str')\n",
    "\n",
    "def clean_data(text):\n",
    "    for ch in ['','\\ufeff','\\u200b','\\\"\"','.',',','%','\\\\','`','«', '_','{','}','[',']','(',')','>','#','+','-','!','$','\\'','/','»',':','“','”','xa0','\"\"','1','2','3','4','5','6','7','8','9','0','?','!','’']:\n",
    "        if ch in text:\n",
    "            text = text.replace(ch,\"\")         \n",
    "    return text\n",
    "\n",
    "\n",
    "\n",
    "\n",
    "def clean_scraped_data():\n",
    "    for j in range(0,2867):\n",
    "        df['title'][j]=clean_data(df['title'][j])\n",
    "        df['details'][j]=clean_data(df['details'][j])\n",
    "        #df['date'][j]=clean_data(df['date'][j])\n",
    "         \n",
    "     \n",
    "    return df                     \n",
    "\n",
    "\n",
    "df=clean_scraped_data()\n",
    "df\n",
    "    "
   ]
  },
  {
   "cell_type": "code",
   "execution_count": 6,
   "id": "744e2d6d",
   "metadata": {},
   "outputs": [],
   "source": [
    "data=  pd.DataFrame()\n",
    "data['text'] = df['title'] + \" \" + df['details']\n",
    "#df = df.drop([ 'date'],axis=1)"
   ]
  },
  {
   "cell_type": "code",
   "execution_count": 7,
   "id": "141267b2",
   "metadata": {
    "scrolled": false
   },
   "outputs": [],
   "source": [
    "#text=\"\" # data sous forme text (one string)\n",
    "#with open('data_cleaned_.txt', 'w') as f:\n",
    "  #  for i in range(0,2867):\n",
    "   #     text=text+str(data['text'][i])\n",
    "    #    f.write(str(data['text'][i]))       "
   ]
  },
  {
   "cell_type": "code",
   "execution_count": 8,
   "id": "936d81c0",
   "metadata": {
    "scrolled": true
   },
   "outputs": [
    {
     "data": {
      "text/plain": [
       "0       Covid   morts la baisse se poursuit dans les s...\n",
       "1       Covid  un essai lancé en France sur linterchan...\n",
       "2       Covid  malgré son retard initial la France fai...\n",
       "3       Covid  vaccinodrome cherche vaccinateurs le jo...\n",
       "4       Covid  la baisse des hospitalisations se pours...\n",
       "                              ...                        \n",
       "2863    Vaccin  en France \"il est très difficile de sa...\n",
       "2864    Succès inattendu pour les stations de ski malg...\n",
       "2865    Covid  comment les Français concernés par le c...\n",
       "2866    Covid  vaccination à grande échelle à Pékin av...\n",
       "2867    Covid-19 : le vaccin de Moderna va être autori...\n",
       "Name: text, Length: 2868, dtype: object"
      ]
     },
     "execution_count": 8,
     "metadata": {},
     "output_type": "execute_result"
    }
   ],
   "source": [
    "data['text']"
   ]
  },
  {
   "cell_type": "markdown",
   "id": "f0860891",
   "metadata": {},
   "source": [
    "### Data pre-processing"
   ]
  },
  {
   "cell_type": "code",
   "execution_count": 9,
   "id": "1118136d",
   "metadata": {},
   "outputs": [],
   "source": [
    "# Step - a : Remove blank rows if any.\n",
    "data['text'].dropna(inplace=True) \n",
    "\n"
   ]
  },
  {
   "cell_type": "code",
   "execution_count": 10,
   "id": "3a80730f",
   "metadata": {},
   "outputs": [],
   "source": [
    "# Step - b : Change all the text to lower case. This is required as python interprets 'dog' and 'DOG' differently\n",
    "data['text'] = [entry.lower() for entry in data['text']]"
   ]
  },
  {
   "cell_type": "code",
   "execution_count": 11,
   "id": "d0f4b6a4",
   "metadata": {},
   "outputs": [],
   "source": [
    "# Step - c : Tokenization : In this each entry in the corpus will be broken into set of words\n",
    "data['text']= [word_tokenize(entry) for entry in data['text']]"
   ]
  },
  {
   "cell_type": "code",
   "execution_count": 12,
   "id": "27a29638",
   "metadata": {
    "scrolled": true
   },
   "outputs": [
    {
     "name": "stdout",
     "output_type": "stream",
     "text": [
      "0       [covid, morts, la, baisse, se, poursuit, dans,...\n",
      "1       [covid, un, essai, lancé, en, france, sur, lin...\n",
      "2       [covid, malgré, son, retard, initial, la, fran...\n",
      "3       [covid, vaccinodrome, cherche, vaccinateurs, l...\n",
      "4       [covid, la, baisse, des, hospitalisations, se,...\n",
      "                              ...                        \n",
      "2863    [vaccin, en, france, ``, il, est, très, diffic...\n",
      "2864    [succès, inattendu, pour, les, stations, de, s...\n",
      "2865    [covid, comment, les, français, concernés, par...\n",
      "2866    [covid, vaccination, à, grande, échelle, à, pé...\n",
      "2867    [covid-19, :, le, vaccin, de, moderna, va, êtr...\n",
      "Name: text, Length: 2868, dtype: object\n"
     ]
    }
   ],
   "source": [
    "for i in range(0,2867):\n",
    "    mytxt=\"\"\n",
    "    mytxt=str(data['text'][i])\n",
    "print(data['text'])"
   ]
  },
  {
   "cell_type": "code",
   "execution_count": 13,
   "id": "a67b1db0",
   "metadata": {},
   "outputs": [],
   "source": [
    "from spacy.lang.fr.stop_words import STOP_WORDS as fr_stop\n",
    "\n",
    "final_stopwords_list = list(fr_stop) \n"
   ]
  },
  {
   "cell_type": "code",
   "execution_count": 14,
   "id": "56e60d13",
   "metadata": {},
   "outputs": [],
   "source": [
    "import spacy\n",
    "from spacy.lang.fr.examples import sentences \n",
    "import fr_core_news_md\n",
    "from spacy.lang.en import English     \n",
    "##-----------\n",
    "nlp = spacy.load('fr_core_news_md')     \n",
    "##-----------\n",
    "for index,entry in enumerate(data['text']):\n",
    "    # Declaring Empty List to store the words that follow the rules for this step\n",
    "    Final_words = []\n",
    "    # Initializing WordNetLemmatizer()\n",
    "    word_Lemmatized = WordNetLemmatizer()\n",
    "    # pos_tag function below will provide the 'tag' i.e if the word is Noun(N) or Verb(V) or something else.\n",
    "    for word, tag in pos_tag(entry):\n",
    "        # Below condition is to check for Stop words and consider only alphabets\n",
    "        # \n",
    "        if word not in final_stopwords_list and word.isalpha():\n",
    "            #word_Final = word_Lemmatized.lemmatize(word)\n",
    "            word_Final = word\n",
    "            #steaming\n",
    "            doc = nlp(str(word_Final)) \n",
    "            for token in doc:\n",
    "                word_Final =  token.lemma_\n",
    "            \n",
    "            #word_Final=stemming(word_Final)\n",
    "            Final_words.append(word_Final)\n",
    "    # The final processed set of words for each iteration will be stored in 'text_final'\n",
    "    data.loc[index,'text_final'] = str(Final_words)"
   ]
  },
  {
   "cell_type": "code",
   "execution_count": 15,
   "id": "b56c61ff",
   "metadata": {
    "scrolled": true
   },
   "outputs": [
    {
     "data": {
      "text/plain": [
       "0       ['covid', 'mort', 'baisse', 'poursuivre', 'ser...\n",
       "1       ['covid', 'essai', 'lancer', 'france', 'linter...\n",
       "2       ['covid', 'malgré', 'retard', 'initial', 'fran...\n",
       "3       ['covid', 'vaccinodrome', 'cherche', 'vaccinat...\n",
       "4       ['covid', 'baisse', 'hospitalisation', 'poursu...\n",
       "                              ...                        \n",
       "2863    ['vaccin', 'france', 'très', 'difficile', 'sav...\n",
       "2864    ['succès', 'inattendu', 'station', 'ski', 'mal...\n",
       "2865    ['covid', 'français', 'concerner', 'couvrefeu'...\n",
       "2866    ['covid', 'vaccination', 'grand', 'échell', 'p...\n",
       "2867    ['vaccin', 'moderna', 'autoriser', 'heure', 'j...\n",
       "Name: text_final, Length: 2868, dtype: object"
      ]
     },
     "execution_count": 15,
     "metadata": {},
     "output_type": "execute_result"
    }
   ],
   "source": [
    "data['text_final']# dataframe removed stopword , applied  steaming !"
   ]
  },
  {
   "cell_type": "markdown",
   "id": "493a7cf6",
   "metadata": {},
   "source": [
    "### ------------------ End of data cleaning & NLP -----------------------------   "
   ]
  },
  {
   "cell_type": "markdown",
   "id": "a8e6cf47",
   "metadata": {},
   "source": [
    "**Sentiment Analysis with TextBlob**"
   ]
  },
  {
   "cell_type": "code",
   "execution_count": 16,
   "id": "d639d88e",
   "metadata": {},
   "outputs": [
    {
     "data": {
      "text/plain": [
       "0       ['covid', 'mort', 'baisse', 'poursuivre', 'ser...\n",
       "1       ['covid', 'essai', 'lancer', 'france', 'linter...\n",
       "2       ['covid', 'malgré', 'retard', 'initial', 'fran...\n",
       "3       ['covid', 'vaccinodrome', 'cherche', 'vaccinat...\n",
       "4       ['covid', 'baisse', 'hospitalisation', 'poursu...\n",
       "                              ...                        \n",
       "2863    ['vaccin', 'france', 'très', 'difficile', 'sav...\n",
       "2864    ['succès', 'inattendu', 'station', 'ski', 'mal...\n",
       "2865    ['covid', 'français', 'concerner', 'couvrefeu'...\n",
       "2866    ['covid', 'vaccination', 'grand', 'échell', 'p...\n",
       "2867    ['vaccin', 'moderna', 'autoriser', 'heure', 'j...\n",
       "Name: text_final, Length: 2868, dtype: object"
      ]
     },
     "execution_count": 16,
     "metadata": {},
     "output_type": "execute_result"
    }
   ],
   "source": [
    "data['text_final']"
   ]
  },
  {
   "cell_type": "code",
   "execution_count": 17,
   "id": "b7dbc465",
   "metadata": {},
   "outputs": [
    {
     "data": {
      "text/plain": [
       "pandas.core.series.Series"
      ]
     },
     "execution_count": 17,
     "metadata": {},
     "output_type": "execute_result"
    }
   ],
   "source": [
    "type(data[\"text_final\"])"
   ]
  },
  {
   "cell_type": "code",
   "execution_count": 18,
   "id": "76b2c34a",
   "metadata": {},
   "outputs": [],
   "source": [
    "senti_list = []\n",
    "for i in data[\"text_final\"]:\n",
    "    vs = tb(i).sentiment[0]\n",
    "    if (vs > 0):\n",
    "        senti_list.append('Positive')\n",
    "    elif (vs < 0):\n",
    "        senti_list.append('Negative')\n",
    "    else:\n",
    "        senti_list.append('Neutral')  "
   ]
  },
  {
   "cell_type": "code",
   "execution_count": 19,
   "id": "fa585038",
   "metadata": {},
   "outputs": [
    {
     "data": {
      "text/html": [
       "<div>\n",
       "<style scoped>\n",
       "    .dataframe tbody tr th:only-of-type {\n",
       "        vertical-align: middle;\n",
       "    }\n",
       "\n",
       "    .dataframe tbody tr th {\n",
       "        vertical-align: top;\n",
       "    }\n",
       "\n",
       "    .dataframe thead th {\n",
       "        text-align: right;\n",
       "    }\n",
       "</style>\n",
       "<table border=\"1\" class=\"dataframe\">\n",
       "  <thead>\n",
       "    <tr style=\"text-align: right;\">\n",
       "      <th></th>\n",
       "      <th>text</th>\n",
       "      <th>text_final</th>\n",
       "      <th>sentiment</th>\n",
       "    </tr>\n",
       "  </thead>\n",
       "  <tbody>\n",
       "    <tr>\n",
       "      <th>0</th>\n",
       "      <td>[covid, morts, la, baisse, se, poursuit, dans,...</td>\n",
       "      <td>['covid', 'mort', 'baisse', 'poursuivre', 'ser...</td>\n",
       "      <td>Negative</td>\n",
       "    </tr>\n",
       "    <tr>\n",
       "      <th>1</th>\n",
       "      <td>[covid, un, essai, lancé, en, france, sur, lin...</td>\n",
       "      <td>['covid', 'essai', 'lancer', 'france', 'linter...</td>\n",
       "      <td>Positive</td>\n",
       "    </tr>\n",
       "    <tr>\n",
       "      <th>2</th>\n",
       "      <td>[covid, malgré, son, retard, initial, la, fran...</td>\n",
       "      <td>['covid', 'malgré', 'retard', 'initial', 'fran...</td>\n",
       "      <td>Positive</td>\n",
       "    </tr>\n",
       "    <tr>\n",
       "      <th>3</th>\n",
       "      <td>[covid, vaccinodrome, cherche, vaccinateurs, l...</td>\n",
       "      <td>['covid', 'vaccinodrome', 'cherche', 'vaccinat...</td>\n",
       "      <td>Neutral</td>\n",
       "    </tr>\n",
       "    <tr>\n",
       "      <th>4</th>\n",
       "      <td>[covid, la, baisse, des, hospitalisations, se,...</td>\n",
       "      <td>['covid', 'baisse', 'hospitalisation', 'poursu...</td>\n",
       "      <td>Negative</td>\n",
       "    </tr>\n",
       "    <tr>\n",
       "      <th>...</th>\n",
       "      <td>...</td>\n",
       "      <td>...</td>\n",
       "      <td>...</td>\n",
       "    </tr>\n",
       "    <tr>\n",
       "      <th>2863</th>\n",
       "      <td>[vaccin, en, france, ``, il, est, très, diffic...</td>\n",
       "      <td>['vaccin', 'france', 'très', 'difficile', 'sav...</td>\n",
       "      <td>Negative</td>\n",
       "    </tr>\n",
       "    <tr>\n",
       "      <th>2864</th>\n",
       "      <td>[succès, inattendu, pour, les, stations, de, s...</td>\n",
       "      <td>['succès', 'inattendu', 'station', 'ski', 'mal...</td>\n",
       "      <td>Positive</td>\n",
       "    </tr>\n",
       "    <tr>\n",
       "      <th>2865</th>\n",
       "      <td>[covid, comment, les, français, concernés, par...</td>\n",
       "      <td>['covid', 'français', 'concerner', 'couvrefeu'...</td>\n",
       "      <td>Positive</td>\n",
       "    </tr>\n",
       "    <tr>\n",
       "      <th>2866</th>\n",
       "      <td>[covid, vaccination, à, grande, échelle, à, pé...</td>\n",
       "      <td>['covid', 'vaccination', 'grand', 'échell', 'p...</td>\n",
       "      <td>Positive</td>\n",
       "    </tr>\n",
       "    <tr>\n",
       "      <th>2867</th>\n",
       "      <td>[covid-19, :, le, vaccin, de, moderna, va, êtr...</td>\n",
       "      <td>['vaccin', 'moderna', 'autoriser', 'heure', 'j...</td>\n",
       "      <td>Positive</td>\n",
       "    </tr>\n",
       "  </tbody>\n",
       "</table>\n",
       "<p>2868 rows × 3 columns</p>\n",
       "</div>"
      ],
      "text/plain": [
       "                                                   text  \\\n",
       "0     [covid, morts, la, baisse, se, poursuit, dans,...   \n",
       "1     [covid, un, essai, lancé, en, france, sur, lin...   \n",
       "2     [covid, malgré, son, retard, initial, la, fran...   \n",
       "3     [covid, vaccinodrome, cherche, vaccinateurs, l...   \n",
       "4     [covid, la, baisse, des, hospitalisations, se,...   \n",
       "...                                                 ...   \n",
       "2863  [vaccin, en, france, ``, il, est, très, diffic...   \n",
       "2864  [succès, inattendu, pour, les, stations, de, s...   \n",
       "2865  [covid, comment, les, français, concernés, par...   \n",
       "2866  [covid, vaccination, à, grande, échelle, à, pé...   \n",
       "2867  [covid-19, :, le, vaccin, de, moderna, va, êtr...   \n",
       "\n",
       "                                             text_final sentiment  \n",
       "0     ['covid', 'mort', 'baisse', 'poursuivre', 'ser...  Negative  \n",
       "1     ['covid', 'essai', 'lancer', 'france', 'linter...  Positive  \n",
       "2     ['covid', 'malgré', 'retard', 'initial', 'fran...  Positive  \n",
       "3     ['covid', 'vaccinodrome', 'cherche', 'vaccinat...   Neutral  \n",
       "4     ['covid', 'baisse', 'hospitalisation', 'poursu...  Negative  \n",
       "...                                                 ...       ...  \n",
       "2863  ['vaccin', 'france', 'très', 'difficile', 'sav...  Negative  \n",
       "2864  ['succès', 'inattendu', 'station', 'ski', 'mal...  Positive  \n",
       "2865  ['covid', 'français', 'concerner', 'couvrefeu'...  Positive  \n",
       "2866  ['covid', 'vaccination', 'grand', 'échell', 'p...  Positive  \n",
       "2867  ['vaccin', 'moderna', 'autoriser', 'heure', 'j...  Positive  \n",
       "\n",
       "[2868 rows x 3 columns]"
      ]
     },
     "execution_count": 19,
     "metadata": {},
     "output_type": "execute_result"
    }
   ],
   "source": [
    "data[\"sentiment\"]=senti_list\n",
    "data"
   ]
  },
  {
   "cell_type": "code",
   "execution_count": 20,
   "id": "5ec2205b",
   "metadata": {},
   "outputs": [
    {
     "name": "stdout",
     "output_type": "stream",
     "text": [
      "# Train data samples: 2581\n",
      "# Test data samples: 287\n"
     ]
    }
   ],
   "source": [
    "X_train, X_test, y_train, y_test = train_test_split(data[\"text\"], data[\"sentiment\"], test_size=0.1, random_state=37)\n",
    "print('# Train data samples:', X_train.shape[0])\n",
    "print('# Test data samples:', X_test.shape[0])\n",
    "assert X_train.shape[0] == y_train.shape[0]\n",
    "assert X_test.shape[0] == y_test.shape[0]"
   ]
  },
  {
   "cell_type": "code",
   "execution_count": 21,
   "id": "49af8092",
   "metadata": {},
   "outputs": [],
   "source": [
    "NB_WORDS = 10000  # Parameter indicating the number of words we'll put in the dictionary\n",
    "VAL_SIZE = 1000  # Size of the validation set\n",
    "NB_START_EPOCHS = 20  # Number of epochs we usually start to train with\n",
    "BATCH_SIZE = 512  # Size of the batches used in the mini-batch gradient descent"
   ]
  },
  {
   "cell_type": "code",
   "execution_count": 22,
   "id": "02520f8d",
   "metadata": {},
   "outputs": [
    {
     "name": "stdout",
     "output_type": "stream",
     "text": [
      "Fitted tokenizer on 2581 documents\n",
      "10000 words in dictionary\n",
      "Top 5 most common words are: [('de', 9084), ('la', 5121), ('le', 4712), ('les', 4263), ('à', 3158)]\n"
     ]
    }
   ],
   "source": [
    "import collections\n",
    "tk = Tokenizer(num_words=NB_WORDS,\n",
    "               filters='!\"#$%&()*+,-./:;<=>?@[\\\\]^_`{|}~\\t\\n',\n",
    "               lower=True,\n",
    "               split=\" \")\n",
    "tk.fit_on_texts(X_train)\n",
    "\n",
    "print('Fitted tokenizer on {} documents'.format(tk.document_count))\n",
    "print('{} words in dictionary'.format(tk.num_words))\n",
    "print('Top 5 most common words are:', collections.Counter(tk.word_counts).most_common(5))"
   ]
  },
  {
   "cell_type": "code",
   "execution_count": 23,
   "id": "f0cd6906",
   "metadata": {},
   "outputs": [
    {
     "name": "stdout",
     "output_type": "stream",
     "text": [
      "\"['covid', 'morts', 'la', 'baisse', 'se', 'poursuit', 'dans', 'les', 'services', 'de', 'réanimation', 'le', 'nombre', 'de', 'malades', 'du', 'covid', 'dans', 'les', 'services', 'de', 'réanimation', 'a', 'poursuivi', 'sa', 'baisse', 'mardi', 'ainsi', 'que', 'le', 'total', 'des', 'hospitalisations', 'au', 'plus', 'bas', 'depuis', 'six', 'mois', 'selon', 'les', 'chiffres', 'de', 'santé', 'publique', 'france', 'les', 'services', 'de', 'soins', 'critiques', 'comptent', 'désormais', 'patients', 'contre', 'la', 'veille']\" is converted into [3, 808, 1, 1513, 6, 21, 1, 152, 1400, 85, 339, 932, 7, 285, 6494, 1, 1227, 3, 808, 1, 1513, 18, 17, 300, 2988, 6, 21, 2588, 6, 189, 152, 1400, 20, 339, 5, 64, 682, 253, 1, 22, 1034, 34, 35, 847, 184, 15, 208, 1, 59]\n"
     ]
    }
   ],
   "source": [
    "X_train_seq = tk.texts_to_sequences(X_train)\n",
    "X_test_seq = tk.texts_to_sequences(X_test)\n",
    "\n",
    "print('\"{}\" is converted into {}'.format(X_train[0], X_train_seq[0]))"
   ]
  },
  {
   "cell_type": "code",
   "execution_count": 24,
   "id": "e4e9287d",
   "metadata": {},
   "outputs": [
    {
     "name": "stdout",
     "output_type": "stream",
     "text": [
      "\"[3, 808, 1, 1513, 6, 21, 1, 152, 1400, 85, 339, 932, 7, 285, 6494, 1, 1227, 3, 808, 1, 1513, 18, 17, 300, 2988, 6, 21, 2588, 6, 189, 152, 1400, 20, 339, 5, 64, 682, 253, 1, 22, 1034, 34, 35, 847, 184, 15, 208, 1, 59]\" is converted into [0. 1. 0. ... 0. 0. 0.]\n",
      "For this example we have 35.0 features with a value of 1.\n"
     ]
    }
   ],
   "source": [
    "def one_hot_seq(seqs, nb_features = NB_WORDS):\n",
    "    ohs = np.zeros((len(seqs), nb_features))\n",
    "    for i, s in enumerate(seqs):\n",
    "        ohs[i, s] = 1.\n",
    "    return ohs\n",
    "\n",
    "X_train_oh = one_hot_seq(X_train_seq)\n",
    "X_test_oh = one_hot_seq(X_test_seq)\n",
    "\n",
    "print('\"{}\" is converted into {}'.format(X_train_seq[0], X_train_oh[0]))\n",
    "print('For this example we have {} features with a value of 1.'.format(X_train_oh[0].sum()))"
   ]
  },
  {
   "cell_type": "code",
   "execution_count": 25,
   "id": "470f31d6",
   "metadata": {},
   "outputs": [
    {
     "name": "stdout",
     "output_type": "stream",
     "text": [
      "\"Negative\" is converted into 2\n",
      "\"2\" is converted into [0. 0. 1.]\n"
     ]
    }
   ],
   "source": [
    "le = LabelEncoder()\n",
    "y_train_le = le.fit_transform(y_train)\n",
    "y_test_le = le.transform(y_test)\n",
    "y_train_oh = to_categorical(y_train_le)\n",
    "y_test_oh = to_categorical(y_test_le)\n",
    "\n",
    "print('\"{}\" is converted into {}'.format(y_train[0], y_train_le[0]))\n",
    "print('\"{}\" is converted into {}'.format(y_train_le[0], y_train_oh[0]))"
   ]
  },
  {
   "cell_type": "code",
   "execution_count": 26,
   "id": "e2efd15b",
   "metadata": {},
   "outputs": [
    {
     "name": "stdout",
     "output_type": "stream",
     "text": [
      "Shape of validation set: (259, 10000)\n"
     ]
    }
   ],
   "source": [
    "X_train_rest, X_valid, y_train_rest, y_valid = train_test_split(X_train_oh, y_train_oh, test_size=0.1, random_state=37)\n",
    "\n",
    "assert X_valid.shape[0] == y_valid.shape[0]\n",
    "assert X_train_rest.shape[0] == y_train_rest.shape[0]\n",
    "\n",
    "print('Shape of validation set:',X_valid.shape)"
   ]
  },
  {
   "cell_type": "markdown",
   "id": "f69ae5c3",
   "metadata": {},
   "source": [
    "### Deep learning"
   ]
  },
  {
   "cell_type": "code",
   "execution_count": 27,
   "id": "c3799b52",
   "metadata": {},
   "outputs": [
    {
     "name": "stdout",
     "output_type": "stream",
     "text": [
      "Model: \"sequential\"\n",
      "_________________________________________________________________\n",
      "Layer (type)                 Output Shape              Param #   \n",
      "=================================================================\n",
      "dense (Dense)                (None, 64)                640064    \n",
      "_________________________________________________________________\n",
      "dense_1 (Dense)              (None, 64)                4160      \n",
      "_________________________________________________________________\n",
      "dense_2 (Dense)              (None, 3)                 195       \n",
      "=================================================================\n",
      "Total params: 644,419\n",
      "Trainable params: 644,419\n",
      "Non-trainable params: 0\n",
      "_________________________________________________________________\n"
     ]
    }
   ],
   "source": [
    "base_model = models.Sequential()\n",
    "base_model.add(layers.Dense(64, activation='relu', input_shape=(NB_WORDS,)))\n",
    "base_model.add(layers.Dense(64, activation='relu'))\n",
    "base_model.add(layers.Dense(3, activation='softmax'))\n",
    "base_model.summary()"
   ]
  },
  {
   "cell_type": "code",
   "execution_count": 28,
   "id": "6cf42623",
   "metadata": {},
   "outputs": [],
   "source": [
    "def deep_model(model):\n",
    "    model.compile(optimizer='rmsprop'\n",
    "                  , loss='categorical_crossentropy'\n",
    "                  , metrics=['accuracy'])\n",
    "    \n",
    "    history = model.fit(X_train_rest\n",
    "                       , y_train_rest\n",
    "                       , epochs=NB_START_EPOCHS\n",
    "                       , batch_size=BATCH_SIZE\n",
    "                       , validation_data=(X_valid, y_valid)\n",
    "                       , verbose=0)\n",
    "    \n",
    "    return history"
   ]
  },
  {
   "cell_type": "code",
   "execution_count": 29,
   "id": "c10d27c8",
   "metadata": {},
   "outputs": [],
   "source": [
    "base_history = deep_model(base_model)"
   ]
  },
  {
   "cell_type": "code",
   "execution_count": 30,
   "id": "d5a51c2f",
   "metadata": {},
   "outputs": [],
   "source": [
    "%matplotlib inline\n",
    "from matplotlib import pyplot as plt\n",
    "\n",
    "def eval_metric(history, metric_name):\n",
    "    metric = history.history[metric_name]\n",
    "    val_metric = history.history['val_' + metric_name]\n",
    "\n",
    "    e = range(1, NB_START_EPOCHS + 1)\n",
    "\n",
    "    plt.plot(e, metric, 'bo', label='Train ' + metric_name)\n",
    "    plt.plot(e, val_metric, 'b', label='Validation ' + metric_name)\n",
    "    plt.legend()\n",
    "    plt.show()"
   ]
  },
  {
   "cell_type": "code",
   "execution_count": 31,
   "id": "1b5a7e21",
   "metadata": {},
   "outputs": [
    {
     "data": {
      "image/png": "[encoded data removed]",
      "text/plain": [
       "<Figure size 432x288 with 1 Axes>"
      ]
     },
     "metadata": {
      "needs_background": "light"
     },
     "output_type": "display_data"
    }
   ],
   "source": [
    "eval_metric(base_history, 'loss')"
   ]
  },
  {
   "cell_type": "code",
   "execution_count": 32,
   "id": "f8ab73b9",
   "metadata": {},
   "outputs": [
    {
     "data": {
      "image/png": "[encoded data removed]",
      "text/plain": [
       "<Figure size 432x288 with 1 Axes>"
      ]
     },
     "metadata": {
      "needs_background": "light"
     },
     "output_type": "display_data"
    }
   ],
   "source": [
    "eval_metric(base_history, 'accuracy')"
   ]
  },
  {
   "cell_type": "code",
   "execution_count": 33,
   "id": "15a68d7a",
   "metadata": {},
   "outputs": [
    {
     "name": "stdout",
     "output_type": "stream",
     "text": [
      "Model: \"sequential_1\"\n",
      "_________________________________________________________________\n",
      "Layer (type)                 Output Shape              Param #   \n",
      "=================================================================\n",
      "dense_3 (Dense)              (None, 32)                320032    \n",
      "_________________________________________________________________\n",
      "dense_4 (Dense)              (None, 3)                 99        \n",
      "=================================================================\n",
      "Total params: 320,131\n",
      "Trainable params: 320,131\n",
      "Non-trainable params: 0\n",
      "_________________________________________________________________\n"
     ]
    }
   ],
   "source": [
    "reduced_model = models.Sequential()\n",
    "reduced_model.add(layers.Dense(32, activation='relu', input_shape=(NB_WORDS,)))\n",
    "reduced_model.add(layers.Dense(3, activation='softmax'))\n",
    "reduced_model.summary()"
   ]
  },
  {
   "cell_type": "code",
   "execution_count": 34,
   "id": "79b995f7",
   "metadata": {},
   "outputs": [],
   "source": [
    "reduced_history = deep_model(reduced_model)"
   ]
  },
  {
   "cell_type": "code",
   "execution_count": 35,
   "id": "9f6b831f",
   "metadata": {},
   "outputs": [],
   "source": [
    "def compare_loss_with_baseline(h, model_name):\n",
    "    loss_base_model = base_history.history['val_loss']\n",
    "    loss_model = h.history['val_loss']\n",
    "\n",
    "    e = range(1, NB_START_EPOCHS + 1)\n",
    "\n",
    "    plt.plot(e, loss_base_model, 'bo', label='Validation Loss Baseline Model')\n",
    "    plt.plot(e, loss_model, 'b', label='Validation Loss ' + model_name)\n",
    "    plt.legend()\n",
    "    plt.show()"
   ]
  },
  {
   "cell_type": "code",
   "execution_count": 36,
   "id": "17de48d0",
   "metadata": {},
   "outputs": [
    {
     "data": {
      "image/png": "[encoded data removed]",
      "text/plain": [
       "<Figure size 432x288 with 1 Axes>"
      ]
     },
     "metadata": {
      "needs_background": "light"
     },
     "output_type": "display_data"
    }
   ],
   "source": [
    "compare_loss_with_baseline(reduced_history, 'Reduced Model')"
   ]
  },
  {
   "cell_type": "code",
   "execution_count": 37,
   "id": "9ac7d5e7",
   "metadata": {},
   "outputs": [
    {
     "name": "stdout",
     "output_type": "stream",
     "text": [
      "Model: \"sequential_2\"\n",
      "_________________________________________________________________\n",
      "Layer (type)                 Output Shape              Param #   \n",
      "=================================================================\n",
      "dense_5 (Dense)              (None, 64)                640064    \n",
      "_________________________________________________________________\n",
      "dense_6 (Dense)              (None, 64)                4160      \n",
      "_________________________________________________________________\n",
      "dense_7 (Dense)              (None, 3)                 195       \n",
      "=================================================================\n",
      "Total params: 644,419\n",
      "Trainable params: 644,419\n",
      "Non-trainable params: 0\n",
      "_________________________________________________________________\n"
     ]
    }
   ],
   "source": [
    "reg_model = models.Sequential()\n",
    "reg_model.add(layers.Dense(64, kernel_regularizer=regularizers.l2(0.001), activation='relu', input_shape=(NB_WORDS,)))\n",
    "reg_model.add(layers.Dense(64, kernel_regularizer=regularizers.l2(0.001), activation='relu'))\n",
    "reg_model.add(layers.Dense(3, activation='softmax'))\n",
    "reg_model.summary()"
   ]
  },
  {
   "cell_type": "code",
   "execution_count": 38,
   "id": "1eaa01be",
   "metadata": {},
   "outputs": [],
   "source": [
    "reg_history = deep_model(reg_model)"
   ]
  },
  {
   "cell_type": "code",
   "execution_count": 39,
   "id": "0827764d",
   "metadata": {},
   "outputs": [
    {
     "data": {
      "image/png": "[encoded data removed]",
      "text/plain": [
       "<Figure size 432x288 with 1 Axes>"
      ]
     },
     "metadata": {
      "needs_background": "light"
     },
     "output_type": "display_data"
    }
   ],
   "source": [
    "compare_loss_with_baseline(reg_history, 'Regularized Model')"
   ]
  },
  {
   "cell_type": "code",
   "execution_count": 40,
   "id": "fbc7f369",
   "metadata": {},
   "outputs": [
    {
     "name": "stdout",
     "output_type": "stream",
     "text": [
      "Model: \"sequential_3\"\n",
      "_________________________________________________________________\n",
      "Layer (type)                 Output Shape              Param #   \n",
      "=================================================================\n",
      "dense_8 (Dense)              (None, 64)                640064    \n",
      "_________________________________________________________________\n",
      "dropout (Dropout)            (None, 64)                0         \n",
      "_________________________________________________________________\n",
      "dense_9 (Dense)              (None, 64)                4160      \n",
      "_________________________________________________________________\n",
      "dropout_1 (Dropout)          (None, 64)                0         \n",
      "_________________________________________________________________\n",
      "dense_10 (Dense)             (None, 3)                 195       \n",
      "=================================================================\n",
      "Total params: 644,419\n",
      "Trainable params: 644,419\n",
      "Non-trainable params: 0\n",
      "_________________________________________________________________\n"
     ]
    }
   ],
   "source": [
    "drop_model = models.Sequential()\n",
    "drop_model.add(layers.Dense(64, activation='relu', input_shape=(NB_WORDS,)))\n",
    "drop_model.add(layers.Dropout(0.5))\n",
    "drop_model.add(layers.Dense(64, activation='relu'))\n",
    "drop_model.add(layers.Dropout(0.5))\n",
    "drop_model.add(layers.Dense(3, activation='softmax'))\n",
    "drop_model.summary()"
   ]
  },
  {
   "cell_type": "code",
   "execution_count": 41,
   "id": "04165912",
   "metadata": {},
   "outputs": [],
   "source": [
    "drop_history = deep_model(drop_model)"
   ]
  },
  {
   "cell_type": "code",
   "execution_count": 42,
   "id": "f052cc93",
   "metadata": {},
   "outputs": [
    {
     "data": {
      "image/png": "[encoded data removed]",
      "text/plain": [
       "<Figure size 432x288 with 1 Axes>"
      ]
     },
     "metadata": {
      "needs_background": "light"
     },
     "output_type": "display_data"
    }
   ],
   "source": [
    "compare_loss_with_baseline(drop_history, 'Dropout Model')"
   ]
  },
  {
   "cell_type": "code",
   "execution_count": 43,
   "id": "d9500882",
   "metadata": {},
   "outputs": [],
   "source": [
    "def test_model(model, epoch_stop):\n",
    "    model.fit(X_train_oh\n",
    "              , y_train_oh\n",
    "              , epochs=epoch_stop\n",
    "              , batch_size=BATCH_SIZE\n",
    "              , verbose=0)\n",
    "    results = model.evaluate(X_test_oh, y_test_oh)\n",
    "    \n",
    "    return results"
   ]
  },
  {
   "cell_type": "code",
   "execution_count": 44,
   "id": "179fd5ca",
   "metadata": {},
   "outputs": [
    {
     "name": "stdout",
     "output_type": "stream",
     "text": [
      "9/9 [==============================] - 0s 2ms/step - loss: 1.0153 - accuracy: 0.7073\n",
      "/n\n",
      "Test accuracy of baseline model: 70.73%\n"
     ]
    }
   ],
   "source": [
    "base_results = test_model(base_model, 4)\n",
    "print('/n')\n",
    "print('Test accuracy of baseline model: {0:.2f}%'.format(base_results[1]*100))"
   ]
  },
  {
   "cell_type": "code",
   "execution_count": 45,
   "id": "ba9672b8",
   "metadata": {},
   "outputs": [
    {
     "name": "stdout",
     "output_type": "stream",
     "text": [
      "9/9 [==============================] - 0s 1ms/step - loss: 0.8832 - accuracy: 0.7143\n",
      "/n\n",
      "Test accuracy of reduced model: 71.43%\n"
     ]
    }
   ],
   "source": [
    "reduced_results = test_model(reduced_model, 10)\n",
    "print('/n')\n",
    "print('Test accuracy of reduced model: {0:.2f}%'.format(reduced_results[1]*100))"
   ]
  },
  {
   "cell_type": "code",
   "execution_count": 46,
   "id": "f464edd4",
   "metadata": {},
   "outputs": [
    {
     "name": "stdout",
     "output_type": "stream",
     "text": [
      "9/9 [==============================] - 0s 2ms/step - loss: 0.9607 - accuracy: 0.7038\n",
      "/n\n",
      "Test accuracy of regularized model: 70.38%\n"
     ]
    }
   ],
   "source": [
    "reg_results = test_model(reg_model, 5)\n",
    "print('/n')\n",
    "print('Test accuracy of regularized model: {0:.2f}%'.format(reg_results[1]*100))"
   ]
  },
  {
   "cell_type": "code",
   "execution_count": 47,
   "id": "f5176471",
   "metadata": {},
   "outputs": [
    {
     "name": "stdout",
     "output_type": "stream",
     "text": [
      "9/9 [==============================] - 0s 2ms/step - loss: 1.0220 - accuracy: 0.7213\n",
      "/n\n",
      "Test accuracy of dropout model: 72.13%\n"
     ]
    }
   ],
   "source": [
    "drop_results = test_model(drop_model, 6)\n",
    "print('/n')\n",
    "print('Test accuracy of dropout model: {0:.2f}%'.format(drop_results[1]*100))"
   ]
  },
  {
   "cell_type": "code",
   "execution_count": null,
   "id": "b4f1d4d3",
   "metadata": {},
   "outputs": [],
   "source": []
  },
  {
   "cell_type": "code",
   "execution_count": null,
   "id": "f21eee0e",
   "metadata": {},
   "outputs": [],
   "source": []
  },
  {
   "cell_type": "code",
   "execution_count": null,
   "id": "6281f013",
   "metadata": {},
   "outputs": [],
   "source": []
  },
  {
   "cell_type": "code",
   "execution_count": null,
   "id": "403f0fbd",
   "metadata": {},
   "outputs": [],
   "source": []
  }
 ],
 "metadata": {
  "kernelspec": {
   "display_name": "Python 3",
   "language": "python",
   "name": "python3"
  },
  "language_info": {
   "codemirror_mode": {
    "name": "ipython",
    "version": 3
   },
   "file_extension": ".py",
   "mimetype": "text/x-python",
   "name": "python",
   "nbconvert_exporter": "python",
   "pygments_lexer": "ipython3",
   "version": "3.9.1"
  }
 },
 "nbformat": 4,
 "nbformat_minor": 5
}
